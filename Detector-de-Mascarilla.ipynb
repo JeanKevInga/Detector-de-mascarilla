{
 "cells": [
  {
   "cell_type": "code",
   "execution_count": null,
   "id": "e2c10d02",
   "metadata": {},
   "outputs": [],
   "source": [
    "get_ipython().system('pip  install opencv-python')\n",
    "get_ipython().system('pip install matplotlib')\n",
    "get_ipython().system('pip install tensorflow==2.9.1')\n",
    "get_ipython().system('pip install pillow')"
   ]
  },
  {
   "cell_type": "code",
   "execution_count": null,
   "id": "b4cf9f9a",
   "metadata": {},
   "outputs": [],
   "source": [
    "import os\n",
    "import tensorflow as tf\n",
    "import numpy as np\n",
    "import cv2\n",
    "import matplotlib.pyplot as plt"
   ]
  },
  {
   "cell_type": "code",
   "execution_count": null,
   "id": "f8c5b409",
   "metadata": {},
   "outputs": [],
   "source": [
    "print(tf.__version__)"
   ]
  },
  {
   "cell_type": "code",
   "execution_count": null,
   "id": "e3526213",
   "metadata": {},
   "outputs": [],
   "source": [
    "direc_entrenamiento='D:\\Entorno Aislado, Librerias de Python\\env\\observations-master\\experiements\\data'\n",
    "direc_entre_mask=os.path.join(direc_entrenamiento,\"with_mask\")\n",
    "direc_entre_No_mask=os.path.join(direc_entrenamiento,\"without_mask\")"
   ]
  },
  {
   "cell_type": "code",
   "execution_count": null,
   "id": "51a5d649",
   "metadata": {},
   "outputs": [],
   "source": [
    "print('total imagenes con mascarillas', len(os.listdir(direc_entre_mask)))\n",
    "print('total imagenes sin mascarillas', len(os.listdir(direc_entre_No_mask)))"
   ]
  },
  {
   "cell_type": "code",
   "execution_count": null,
   "id": "b31ae682",
   "metadata": {},
   "outputs": [],
   "source": [
    "model=tf.keras.models.Sequential([\n",
    "    tf.keras.layers.Conv2D(16, (3,3), activation='relu', input_shape=(150,150,3)),\n",
    "    tf.keras.layers.MaxPooling2D(2,2),\n",
    "    tf.keras.layers.Conv2D(32, (3,3),activation='relu'),\n",
    "    tf.keras.layers.MaxPooling2D(2,2),\n",
    "    tf.keras.layers.Conv2D(64, (3,3),activation='relu'),\n",
    "    tf.keras.layers.MaxPooling2D(2,2),\n",
    "    tf.keras.layers.Flatten(),\n",
    "    tf.keras.layers.Dense(512,activation='relu'),\n",
    "    #Clasificacion binaria\n",
    "    tf.keras.layers.Dense(1,activation= 'sigmoid')\n",
    "    \n",
    "])"
   ]
  },
  {
   "cell_type": "code",
   "execution_count": null,
   "id": "7195a03a",
   "metadata": {},
   "outputs": [],
   "source": [
    "from tensorflow.keras.optimizers import Adam\n",
    "model.compile(optimizer=Adam(lr=0.001),\n",
    "              loss='binary_crossentropy',\n",
    "              metrics=['accuracy'])"
   ]
  },
  {
   "cell_type": "code",
   "execution_count": null,
   "id": "bacc9441",
   "metadata": {},
   "outputs": [],
   "source": [
    "from tensorflow.keras.preprocessing.image import ImageDataGenerator\n",
    "img_height =150\n",
    "img_width=150\n",
    "batch_size=10\n",
    "train_datagen=ImageDataGenerator(rescale=1./255,\n",
    "                                shear_range=0.2,\n",
    "                                zoom_range=0.2,\n",
    "                                horizontal_flip=True,\n",
    "                                validation_split=0.2) #set validation split\n",
    "\n",
    "train_generator =train_datagen.flow_from_directory(\n",
    "direc_entrenamiento,\n",
    "target_size=(img_height,img_width),\n",
    "batch_size=batch_size,\n",
    "class_mode='binary',\n",
    "subset='training') #set as trainign data\n",
    "\n",
    "validation_generator = train_datagen.flow_from_directory(\n",
    "    direc_entrenamiento, #same directory as a training data\n",
    "    target_size=(img_height,img_width),\n",
    "    batch_size=batch_size,\n",
    "    class_mode='binary',\n",
    "    subset='validation' #data set para al validacion\n",
    ")"
   ]
  },
  {
   "cell_type": "code",
   "execution_count": null,
   "id": "db2a0c6e",
   "metadata": {},
   "outputs": [],
   "source": [
    "nb_epochs =10\n",
    "history =model.fit_generator(\n",
    "    train_generator,\n",
    "    steps_per_epoch = train_generator.samples // batch_size,\n",
    "    validation_data = validation_generator,\n",
    "    validation_steps=validation_generator.samples // batch_size,\n",
    "    epochs = nb_epochs)"
   ]
  },
  {
   "cell_type": "code",
   "execution_count": null,
   "id": "8a68a590",
   "metadata": {},
   "outputs": [],
   "source": [
    "import matplotlib.pyplot as plt\n",
    "acc = history.history['accuracy']\n",
    "loss =history.history['loss']\n",
    "\n",
    "#Graficar la excatitud  vs las perdidas\n",
    "epochs =range(len(acc))\n",
    "\n",
    "#envio de datos a graficar \n",
    "plt.plot(epochs, acc, 'b', label='Exactitud del entrenamiento comunitarias mascarilla ')\n",
    "plt.title('Exactitud del entrenamiento- P comunitarias')\n",
    "\n",
    "plt.figure()\n",
    "\n",
    "plt.plot(epochs, loss, 'b', label ='Error del training- P Comunitarias')\n",
    "plt.title('Error de entrenamiento - P comunitarias')\n",
    "plt.legend()\n",
    "\n",
    "plt.show()"
   ]
  },
  {
   "cell_type": "code",
   "execution_count": null,
   "id": "33d06db4",
   "metadata": {},
   "outputs": [],
   "source": [
    "import matplotlib.pyplot as plt\n",
    "from tensorflow.keras.preprocessing import image\n",
    "from PIL import Image"
   ]
  },
  {
   "cell_type": "code",
   "execution_count": null,
   "id": "ca40e0a3",
   "metadata": {},
   "outputs": [],
   "source": [
    "vc = cv2.VideoCapture(0)\n",
    "\n",
    "plt.ion()\n",
    "if vc.isOpened(): \n",
    "    is_capturing, frame = vc.read()\n",
    "    frame = cv2.cvtColor(frame, cv2.COLOR_BGR2RGB)    \n",
    "    webcam_preview = plt.imshow(frame)    \n",
    "else:\n",
    "    is_capturing = False\n",
    "    \n",
    "while is_capturing:\n",
    "    try:    \n",
    "        is_capturing, frame = vc.read()\n",
    "        frame = cv2.cvtColor(frame, cv2.COLOR_BGR2RGB) \n",
    "        frame_res = cv2.resize(frame, dsize=(150, 150), interpolation=cv2.INTER_CUBIC) #Lee el mismo size que espera el modelo y te ahorra reshapes\n",
    "        x=image.img_to_array(frame_res)\n",
    "        x=np.expand_dims(x, axis=0)\n",
    "        images = np.vstack([x])\n",
    "        classes = model.predict(images, batch_size=10)\n",
    "        if classes[0]>0:\n",
    "            print(\"No lleva Mascarilla - P. Comunitarias\")\n",
    "        else:\n",
    "            print(\"Si lleva Macarilla - P.Comunitarias\")\n",
    "        webcam_preview = plt.imshow(frame)\n",
    "        \n",
    "        webcam_preview.set_data(frame)\n",
    "        plt.draw()\n",
    "        try:    \n",
    "            plt.pause(0.05)\n",
    "        except Exception:\n",
    "            pass\n",
    "    except KeyboardInterrupt:\n",
    "        vc.release()\n",
    "\n"
   ]
  },
  {
   "cell_type": "code",
   "execution_count": null,
   "id": "fb67ffd6",
   "metadata": {},
   "outputs": [],
   "source": [
    "converter = tf.lite.TFLiteConverter.from_keras_model(model)\n",
    "tflite_model = converter.convert()"
   ]
  },
  {
   "cell_type": "code",
   "execution_count": null,
   "id": "1e662d42",
   "metadata": {},
   "outputs": [],
   "source": [
    "open(\"mask_classifier.tflite\",\"wb\").write(tflite_model)"
   ]
  },
  {
   "cell_type": "code",
   "execution_count": null,
   "id": "c1266a7a",
   "metadata": {},
   "outputs": [],
   "source": []
  }
 ],
 "metadata": {
  "kernelspec": {
   "display_name": "Python 3 (ipykernel)",
   "language": "python",
   "name": "python3"
  },
  "language_info": {
   "codemirror_mode": {
    "name": "ipython",
    "version": 3
   },
   "file_extension": ".py",
   "mimetype": "text/x-python",
   "name": "python",
   "nbconvert_exporter": "python",
   "pygments_lexer": "ipython3",
   "version": "3.10.6"
  }
 },
 "nbformat": 4,
 "nbformat_minor": 5
}
