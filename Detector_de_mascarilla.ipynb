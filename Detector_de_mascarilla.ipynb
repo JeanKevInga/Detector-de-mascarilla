{
 "cells": [
  {
   "cell_type": "code",
   "execution_count": 2,
   "metadata": {},
   "outputs": [
    {
     "name": "stdout",
     "output_type": "stream",
     "text": [
      "Requirement already satisfied: opencv-python in d:\\python 3.10.6\\lib\\site-packages (4.6.0.66)\n",
      "Requirement already satisfied: numpy>=1.14.5 in d:\\python 3.10.6\\lib\\site-packages (from opencv-python) (1.23.2)\n"
     ]
    },
    {
     "name": "stderr",
     "output_type": "stream",
     "text": [
      "\n",
      "[notice] A new release of pip available: 22.2.1 -> 22.2.2\n",
      "[notice] To update, run: python.exe -m pip install --upgrade pip\n"
     ]
    },
    {
     "name": "stdout",
     "output_type": "stream",
     "text": [
      "Requirement already satisfied: matplotlib in d:\\python 3.10.6\\lib\\site-packages (3.5.3)\n",
      "Requirement already satisfied: pillow>=6.2.0 in d:\\python 3.10.6\\lib\\site-packages (from matplotlib) (9.2.0)\n",
      "Requirement already satisfied: numpy>=1.17 in d:\\python 3.10.6\\lib\\site-packages (from matplotlib) (1.23.2)\n",
      "Requirement already satisfied: fonttools>=4.22.0 in d:\\python 3.10.6\\lib\\site-packages (from matplotlib) (4.35.0)\n",
      "Requirement already satisfied: packaging>=20.0 in d:\\python 3.10.6\\lib\\site-packages (from matplotlib) (21.3)\n",
      "Requirement already satisfied: pyparsing>=2.2.1 in d:\\python 3.10.6\\lib\\site-packages (from matplotlib) (3.0.9)\n",
      "Requirement already satisfied: cycler>=0.10 in d:\\python 3.10.6\\lib\\site-packages (from matplotlib) (0.11.0)\n",
      "Requirement already satisfied: python-dateutil>=2.7 in d:\\python 3.10.6\\lib\\site-packages (from matplotlib) (2.8.2)\n",
      "Requirement already satisfied: kiwisolver>=1.0.1 in d:\\python 3.10.6\\lib\\site-packages (from matplotlib) (1.4.4)\n",
      "Requirement already satisfied: six>=1.5 in d:\\python 3.10.6\\lib\\site-packages (from python-dateutil>=2.7->matplotlib) (1.16.0)\n"
     ]
    },
    {
     "name": "stderr",
     "output_type": "stream",
     "text": [
      "\n",
      "[notice] A new release of pip available: 22.2.1 -> 22.2.2\n",
      "[notice] To update, run: python.exe -m pip install --upgrade pip\n"
     ]
    },
    {
     "name": "stdout",
     "output_type": "stream",
     "text": [
      "Requirement already satisfied: tensorflow==2.9.1 in d:\\python 3.10.6\\lib\\site-packages (2.9.1)\n",
      "Requirement already satisfied: keras-preprocessing>=1.1.1 in d:\\python 3.10.6\\lib\\site-packages (from tensorflow==2.9.1) (1.1.2)\n",
      "Requirement already satisfied: tensorflow-estimator<2.10.0,>=2.9.0rc0 in d:\\python 3.10.6\\lib\\site-packages (from tensorflow==2.9.1) (2.9.0)\n",
      "Requirement already satisfied: termcolor>=1.1.0 in d:\\python 3.10.6\\lib\\site-packages (from tensorflow==2.9.1) (1.1.0)\n",
      "Requirement already satisfied: libclang>=13.0.0 in d:\\python 3.10.6\\lib\\site-packages (from tensorflow==2.9.1) (14.0.6)\n",
      "Requirement already satisfied: numpy>=1.20 in d:\\python 3.10.6\\lib\\site-packages (from tensorflow==2.9.1) (1.23.2)\n",
      "Requirement already satisfied: wrapt>=1.11.0 in d:\\python 3.10.6\\lib\\site-packages (from tensorflow==2.9.1) (1.14.1)\n",
      "Requirement already satisfied: six>=1.12.0 in d:\\python 3.10.6\\lib\\site-packages (from tensorflow==2.9.1) (1.16.0)\n",
      "Requirement already satisfied: absl-py>=1.0.0 in d:\\python 3.10.6\\lib\\site-packages (from tensorflow==2.9.1) (1.2.0)\n",
      "Requirement already satisfied: astunparse>=1.6.0 in d:\\python 3.10.6\\lib\\site-packages (from tensorflow==2.9.1) (1.6.3)\n",
      "Requirement already satisfied: setuptools in d:\\python 3.10.6\\lib\\site-packages (from tensorflow==2.9.1) (63.2.0)\n",
      "Requirement already satisfied: tensorboard<2.10,>=2.9 in d:\\python 3.10.6\\lib\\site-packages (from tensorflow==2.9.1) (2.9.1)\n",
      "Requirement already satisfied: gast<=0.4.0,>=0.2.1 in d:\\python 3.10.6\\lib\\site-packages (from tensorflow==2.9.1) (0.4.0)\n",
      "Requirement already satisfied: protobuf<3.20,>=3.9.2 in d:\\python 3.10.6\\lib\\site-packages (from tensorflow==2.9.1) (3.19.4)\n",
      "Requirement already satisfied: keras<2.10.0,>=2.9.0rc0 in d:\\python 3.10.6\\lib\\site-packages (from tensorflow==2.9.1) (2.9.0)\n",
      "Requirement already satisfied: typing-extensions>=3.6.6 in d:\\python 3.10.6\\lib\\site-packages (from tensorflow==2.9.1) (4.3.0)\n",
      "Requirement already satisfied: opt-einsum>=2.3.2 in d:\\python 3.10.6\\lib\\site-packages (from tensorflow==2.9.1) (3.3.0)\n",
      "Requirement already satisfied: google-pasta>=0.1.1 in d:\\python 3.10.6\\lib\\site-packages (from tensorflow==2.9.1) (0.2.0)\n",
      "Requirement already satisfied: tensorflow-io-gcs-filesystem>=0.23.1 in d:\\python 3.10.6\\lib\\site-packages (from tensorflow==2.9.1) (0.26.0)\n",
      "Requirement already satisfied: packaging in d:\\python 3.10.6\\lib\\site-packages (from tensorflow==2.9.1) (21.3)\n",
      "Requirement already satisfied: h5py>=2.9.0 in d:\\python 3.10.6\\lib\\site-packages (from tensorflow==2.9.1) (3.7.0)\n",
      "Requirement already satisfied: grpcio<2.0,>=1.24.3 in d:\\python 3.10.6\\lib\\site-packages (from tensorflow==2.9.1) (1.47.0)\n",
      "Requirement already satisfied: flatbuffers<2,>=1.12 in d:\\python 3.10.6\\lib\\site-packages (from tensorflow==2.9.1) (1.12)\n",
      "Requirement already satisfied: wheel<1.0,>=0.23.0 in d:\\python 3.10.6\\lib\\site-packages (from astunparse>=1.6.0->tensorflow==2.9.1) (0.37.1)\n",
      "Requirement already satisfied: google-auth-oauthlib<0.5,>=0.4.1 in d:\\python 3.10.6\\lib\\site-packages (from tensorboard<2.10,>=2.9->tensorflow==2.9.1) (0.4.6)\n",
      "Requirement already satisfied: werkzeug>=1.0.1 in d:\\python 3.10.6\\lib\\site-packages (from tensorboard<2.10,>=2.9->tensorflow==2.9.1) (2.2.2)\n",
      "Requirement already satisfied: requests<3,>=2.21.0 in d:\\python 3.10.6\\lib\\site-packages (from tensorboard<2.10,>=2.9->tensorflow==2.9.1) (2.28.1)\n",
      "Requirement already satisfied: google-auth<3,>=1.6.3 in d:\\python 3.10.6\\lib\\site-packages (from tensorboard<2.10,>=2.9->tensorflow==2.9.1) (2.10.0)\n",
      "Requirement already satisfied: tensorboard-data-server<0.7.0,>=0.6.0 in d:\\python 3.10.6\\lib\\site-packages (from tensorboard<2.10,>=2.9->tensorflow==2.9.1) (0.6.1)\n",
      "Requirement already satisfied: tensorboard-plugin-wit>=1.6.0 in d:\\python 3.10.6\\lib\\site-packages (from tensorboard<2.10,>=2.9->tensorflow==2.9.1) (1.8.1)\n",
      "Requirement already satisfied: markdown>=2.6.8 in d:\\python 3.10.6\\lib\\site-packages (from tensorboard<2.10,>=2.9->tensorflow==2.9.1) (3.4.1)\n",
      "Requirement already satisfied: pyparsing!=3.0.5,>=2.0.2 in d:\\python 3.10.6\\lib\\site-packages (from packaging->tensorflow==2.9.1) (3.0.9)\n",
      "Requirement already satisfied: pyasn1-modules>=0.2.1 in d:\\python 3.10.6\\lib\\site-packages (from google-auth<3,>=1.6.3->tensorboard<2.10,>=2.9->tensorflow==2.9.1) (0.2.8)\n",
      "Requirement already satisfied: rsa<5,>=3.1.4 in d:\\python 3.10.6\\lib\\site-packages (from google-auth<3,>=1.6.3->tensorboard<2.10,>=2.9->tensorflow==2.9.1) (4.9)\n",
      "Requirement already satisfied: cachetools<6.0,>=2.0.0 in d:\\python 3.10.6\\lib\\site-packages (from google-auth<3,>=1.6.3->tensorboard<2.10,>=2.9->tensorflow==2.9.1) (5.2.0)\n",
      "Requirement already satisfied: requests-oauthlib>=0.7.0 in d:\\python 3.10.6\\lib\\site-packages (from google-auth-oauthlib<0.5,>=0.4.1->tensorboard<2.10,>=2.9->tensorflow==2.9.1) (1.3.1)\n",
      "Requirement already satisfied: certifi>=2017.4.17 in d:\\python 3.10.6\\lib\\site-packages (from requests<3,>=2.21.0->tensorboard<2.10,>=2.9->tensorflow==2.9.1) (2022.6.15)\n",
      "Requirement already satisfied: charset-normalizer<3,>=2 in d:\\python 3.10.6\\lib\\site-packages (from requests<3,>=2.21.0->tensorboard<2.10,>=2.9->tensorflow==2.9.1) (2.1.0)\n",
      "Requirement already satisfied: urllib3<1.27,>=1.21.1 in d:\\python 3.10.6\\lib\\site-packages (from requests<3,>=2.21.0->tensorboard<2.10,>=2.9->tensorflow==2.9.1) (1.26.11)\n",
      "Requirement already satisfied: idna<4,>=2.5 in d:\\python 3.10.6\\lib\\site-packages (from requests<3,>=2.21.0->tensorboard<2.10,>=2.9->tensorflow==2.9.1) (3.3)\n",
      "Requirement already satisfied: MarkupSafe>=2.1.1 in d:\\python 3.10.6\\lib\\site-packages (from werkzeug>=1.0.1->tensorboard<2.10,>=2.9->tensorflow==2.9.1) (2.1.1)\n",
      "Requirement already satisfied: pyasn1<0.5.0,>=0.4.6 in d:\\python 3.10.6\\lib\\site-packages (from pyasn1-modules>=0.2.1->google-auth<3,>=1.6.3->tensorboard<2.10,>=2.9->tensorflow==2.9.1) (0.4.8)\n",
      "Requirement already satisfied: oauthlib>=3.0.0 in d:\\python 3.10.6\\lib\\site-packages (from requests-oauthlib>=0.7.0->google-auth-oauthlib<0.5,>=0.4.1->tensorboard<2.10,>=2.9->tensorflow==2.9.1) (3.2.0)\n"
     ]
    },
    {
     "name": "stderr",
     "output_type": "stream",
     "text": [
      "\n",
      "[notice] A new release of pip available: 22.2.1 -> 22.2.2\n",
      "[notice] To update, run: python.exe -m pip install --upgrade pip\n"
     ]
    },
    {
     "name": "stdout",
     "output_type": "stream",
     "text": [
      "Requirement already satisfied: pillow in d:\\python 3.10.6\\lib\\site-packages (9.2.0)\n"
     ]
    },
    {
     "name": "stderr",
     "output_type": "stream",
     "text": [
      "\n",
      "[notice] A new release of pip available: 22.2.1 -> 22.2.2\n",
      "[notice] To update, run: python.exe -m pip install --upgrade pip\n"
     ]
    }
   ],
   "source": [
    "get_ipython().system('pip  install opencv-python')\n",
    "get_ipython().system('pip install matplotlib')\n",
    "get_ipython().system('pip install tensorflow==2.9.1')\n",
    "get_ipython().system('pip install pillow')"
   ]
  },
  {
   "cell_type": "code",
   "execution_count": 3,
   "metadata": {},
   "outputs": [],
   "source": [
    "import os\n",
    "import tensorflow as tf\n",
    "import numpy as np\n",
    "import cv2\n",
    "import matplotlib.pyplot as plt"
   ]
  },
  {
   "cell_type": "markdown",
   "metadata": {},
   "source": [
    "print(tf.__version__)"
   ]
  },
  {
   "cell_type": "code",
   "execution_count": 4,
   "metadata": {},
   "outputs": [],
   "source": [
    "direc_entrenamiento='D:\\Entorno Aislado, Librerias de Python\\env\\observations-master\\experiements\\data'\n",
    "direc_entre_mask=os.path.join(direc_entrenamiento,\"with_mask\")\n",
    "direc_entre_No_mask=os.path.join(direc_entrenamiento,\"without_mask\")"
   ]
  },
  {
   "cell_type": "code",
   "execution_count": 5,
   "metadata": {},
   "outputs": [
    {
     "ename": "FileNotFoundError",
     "evalue": "[WinError 3] El sistema no puede encontrar la ruta especificada: 'D:\\\\Entorno Aislado, Librerias de Python\\\\env\\\\observations-master\\\\experiements\\\\data\\\\with_mask'",
     "output_type": "error",
     "traceback": [
      "\u001b[1;31m---------------------------------------------------------------------------\u001b[0m",
      "\u001b[1;31mFileNotFoundError\u001b[0m                         Traceback (most recent call last)",
      "\u001b[1;32md:\\6ProyectoFormativoUNI\\Proyecto Tollkit, Hackathon Intercon IA-IEEE Perú, UNMSM\\Detector de Mascarilla\\Detector_de_mascarilla.ipynb Celda 5\u001b[0m in \u001b[0;36m<cell line: 1>\u001b[1;34m()\u001b[0m\n\u001b[1;32m----> <a href='vscode-notebook-cell:/d%3A/6ProyectoFormativoUNI/Proyecto%20Tollkit%2C%20Hackathon%20Intercon%20IA-IEEE%20Per%C3%BA%2C%20UNMSM/Detector%20de%20Mascarilla/Detector_de_mascarilla.ipynb#W4sZmlsZQ%3D%3D?line=0'>1</a>\u001b[0m \u001b[39mprint\u001b[39m(\u001b[39m'\u001b[39m\u001b[39mtotal imagenes con mascarillas\u001b[39m\u001b[39m'\u001b[39m, \u001b[39mlen\u001b[39m(os\u001b[39m.\u001b[39;49mlistdir(direc_entre_mask)))\n\u001b[0;32m      <a href='vscode-notebook-cell:/d%3A/6ProyectoFormativoUNI/Proyecto%20Tollkit%2C%20Hackathon%20Intercon%20IA-IEEE%20Per%C3%BA%2C%20UNMSM/Detector%20de%20Mascarilla/Detector_de_mascarilla.ipynb#W4sZmlsZQ%3D%3D?line=1'>2</a>\u001b[0m \u001b[39mprint\u001b[39m(\u001b[39m'\u001b[39m\u001b[39mtotal imagenes sin mascarillas\u001b[39m\u001b[39m'\u001b[39m, \u001b[39mlen\u001b[39m(os\u001b[39m.\u001b[39mlistdir(direc_entre_No_mask)))\n",
      "\u001b[1;31mFileNotFoundError\u001b[0m: [WinError 3] El sistema no puede encontrar la ruta especificada: 'D:\\\\Entorno Aislado, Librerias de Python\\\\env\\\\observations-master\\\\experiements\\\\data\\\\with_mask'"
     ]
    }
   ],
   "source": [
    "print('total imagenes con mascarillas', len(os.listdir(direc_entre_mask)))\n",
    "print('total imagenes sin mascarillas', len(os.listdir(direc_entre_No_mask)))"
   ]
  },
  {
   "cell_type": "code",
   "execution_count": null,
   "metadata": {},
   "outputs": [],
   "source": [
    "model=tf.keras.models.Sequential([\n",
    "    tf.keras.layers.Conv2D(16, (3,3), activation='relu', input_shape=(150,150,3)),\n",
    "    tf.keras.layers.MaxPooling2D(2,2),\n",
    "    tf.keras.layers.Conv2D(32, (3,3),activation='relu'),\n",
    "    tf.keras.layers.MaxPooling2D(2,2),\n",
    "    tf.keras.layers.Conv2D(64, (3,3),activation='relu'),\n",
    "    tf.keras.layers.MaxPooling2D(2,2),\n",
    "    tf.keras.layers.Flatten(),\n",
    "    tf.keras.layers.Dense(512,activation='relu'),\n",
    "    #Clasificacion binaria\n",
    "    tf.keras.layers.Dense(1,activation= 'sigmoid')\n",
    "    \n",
    "])"
   ]
  },
  {
   "cell_type": "code",
   "execution_count": null,
   "metadata": {},
   "outputs": [],
   "source": [
    "from tensorflow.keras.optimizers import Adam\n",
    "model.compile(optimizer=Adam(lr=0.001),\n",
    "              loss='binary_crossentropy',\n",
    "              metrics=['accuracy'])"
   ]
  },
  {
   "cell_type": "code",
   "execution_count": null,
   "metadata": {},
   "outputs": [],
   "source": [
    "from tensorflow.keras.preprocessing.image import ImageDataGenerator\n",
    "img_height =150\n",
    "img_width=150\n",
    "batch_size=10\n",
    "train_datagen=ImageDataGenerator(rescale=1./255,\n",
    "                                shear_range=0.2,\n",
    "                                zoom_range=0.2,\n",
    "                                horizontal_flip=True,\n",
    "                                validation_split=0.2) #set validation split\n",
    "\n",
    "train_generator =train_datagen.flow_from_directory(\n",
    "direc_entrenamiento,\n",
    "target_size=(img_height,img_width),\n",
    "batch_size=batch_size,\n",
    "class_mode='binary',\n",
    "subset='training') #set as trainign data\n",
    "\n",
    "validation_generator = train_datagen.flow_from_directory(\n",
    "    direc_entrenamiento, #same directory as a training data\n",
    "    target_size=(img_height,img_width),\n",
    "    batch_size=batch_size,\n",
    "    class_mode='binary',\n",
    "    subset='validation' #data set para al validacion\n",
    ")"
   ]
  },
  {
   "cell_type": "code",
   "execution_count": null,
   "metadata": {},
   "outputs": [],
   "source": [
    "nb_epochs =10\n",
    "history =model.fit_generator(\n",
    "    train_generator,\n",
    "    steps_per_epoch = train_generator.samples // batch_size,\n",
    "    validation_data = validation_generator,\n",
    "    validation_steps=validation_generator.samples // batch_size,\n",
    "    epochs = nb_epochs)"
   ]
  },
  {
   "cell_type": "code",
   "execution_count": null,
   "metadata": {},
   "outputs": [],
   "source": [
    "import matplotlib.pyplot as plt\n",
    "acc = history.history['accuracy']\n",
    "loss =history.history['loss']\n",
    "\n",
    "#Graficar la excatitud  vs las perdidas\n",
    "epochs =range(len(acc))\n",
    "\n",
    "#envio de datos a graficar \n",
    "plt.plot(epochs, acc, 'b', label='Exactitud del entrenamiento comunitarias mascarilla ')\n",
    "plt.title('Exactitud del entrenamiento- P comunitarias')\n",
    "\n",
    "plt.figure()\n",
    "\n",
    "plt.plot(epochs, loss, 'b', label ='Error del training- P Comunitarias')\n",
    "plt.title('Error de entrenamiento - P comunitarias')\n",
    "plt.legend()\n",
    "\n",
    "plt.show()"
   ]
  },
  {
   "cell_type": "code",
   "execution_count": null,
   "metadata": {},
   "outputs": [],
   "source": [
    "import matplotlib.pyplot as plt\n",
    "from tensorflow.keras.preprocessing import image\n",
    "from PIL import Image"
   ]
  },
  {
   "cell_type": "code",
   "execution_count": null,
   "metadata": {},
   "outputs": [],
   "source": [
    "vc = cv2.VideoCapture(0)\n",
    "\n",
    "plt.ion()\n",
    "if vc.isOpened(): \n",
    "    is_capturing, frame = vc.read()\n",
    "    frame = cv2.cvtColor(frame, cv2.COLOR_BGR2RGB)    \n",
    "    webcam_preview = plt.imshow(frame)    \n",
    "else:\n",
    "    is_capturing = False\n",
    "    \n",
    "while is_capturing:\n",
    "    try:    \n",
    "        is_capturing, frame = vc.read()\n",
    "        frame = cv2.cvtColor(frame, cv2.COLOR_BGR2RGB) \n",
    "        frame_res = cv2.resize(frame, dsize=(150, 150), interpolation=cv2.INTER_CUBIC) #Lee el mismo size que espera el modelo y te ahorra reshapes\n",
    "        x=image.img_to_array(frame_res)\n",
    "        x=np.expand_dims(x, axis=0)\n",
    "        images = np.vstack([x])\n",
    "        classes = model.predict(images, batch_size=10)\n",
    "        if classes[0]>0:\n",
    "            print(\"No lleva Mascarilla - P. Comunitarias\")\n",
    "        else:\n",
    "            print(\"Si lleva Macarilla - P.Comunitarias\")\n",
    "        webcam_preview = plt.imshow(frame)\n",
    "        \n",
    "        webcam_preview.set_data(frame)\n",
    "        plt.draw()\n",
    "        try:    \n",
    "            plt.pause(0.05)\n",
    "        except Exception:\n",
    "            pass\n",
    "    except KeyboardInterrupt:\n",
    "        vc.release()\n",
    "\n"
   ]
  },
  {
   "cell_type": "code",
   "execution_count": null,
   "metadata": {},
   "outputs": [],
   "source": [
    "converter = tf.lite.TFLiteConverter.from_keras_model(model)\n",
    "tflite_model = converter.convert()"
   ]
  },
  {
   "cell_type": "code",
   "execution_count": null,
   "metadata": {},
   "outputs": [],
   "source": [
    "open(\"mask_classifier.tflite\",\"wb\").write(tflite_model)"
   ]
  }
 ],
 "metadata": {
  "kernelspec": {
   "display_name": "Python 3.10.6 64-bit",
   "language": "python",
   "name": "python3"
  },
  "language_info": {
   "codemirror_mode": {
    "name": "ipython",
    "version": 3
   },
   "file_extension": ".py",
   "mimetype": "text/x-python",
   "name": "python",
   "nbconvert_exporter": "python",
   "pygments_lexer": "ipython3",
   "version": "3.10.6"
  },
  "orig_nbformat": 4,
  "vscode": {
   "interpreter": {
    "hash": "156d152d91fc229c34ce529ac30790867e3ca0dfbd6121d50b4331f84c83fa95"
   }
  }
 },
 "nbformat": 4,
 "nbformat_minor": 2
}
